{
 "cells": [
  {
   "cell_type": "markdown",
   "metadata": {},
   "source": [
    "# Compute forgetting curves and model weight composition"
   ]
  },
  {
   "cell_type": "code",
   "execution_count": null,
   "metadata": {},
   "outputs": [],
   "source": [
    "import numpy as np\n",
    "import matplotlib.pyplot as plt\n",
    "\n",
    "from tqdm import tqdm\n",
    "\n",
    "# disable type 3 fonts\n",
    "plt.rcParams['pdf.fonttype'] = 42\n",
    "plt.rcParams['ps.fonttype'] = 42\n",
    "\n",
    "# increase font size\n",
    "plt.rcParams.update({'font.size': 18})\n",
    "\n",
    "# smaller font for axis ticks\n",
    "plt.rcParams.update({'xtick.labelsize': 14})\n",
    "plt.rcParams.update({'ytick.labelsize': 14})"
   ]
  },
  {
   "cell_type": "code",
   "execution_count": null,
   "metadata": {},
   "outputs": [],
   "source": [
    "# cosine learning rate schedule\n",
    "def cosine_lr_schedule(step, total_steps, warmup_steps=700, max_lr=6e-4, min_lr=6e-5):\n",
    "    \"\"\"Returns the learning rate at step.\"\"\"\n",
    "    if step < warmup_steps:\n",
    "        return max_lr * step / warmup_steps\n",
    "    return min_lr + 0.5 * (max_lr - min_lr) * (1 + np.cos((step - warmup_steps) / (total_steps - warmup_steps) * np.pi))\n",
    "\n",
    "steps = 47683\n",
    "lrs = [cosine_lr_schedule(step, steps) for step in range(steps)]\n",
    "plt.plot(lrs, linestyle='-', color='b')"
   ]
  },
  {
   "cell_type": "code",
   "execution_count": null,
   "metadata": {},
   "outputs": [],
   "source": [
    "# linear learning rate schedule\n",
    "def linear_lr_schedule(step, total_steps, warmup_steps=700, max_lr=6e-4, min_lr=6e-5):\n",
    "    \"\"\"Returns the learning rate at step.\"\"\"\n",
    "    if step < warmup_steps:\n",
    "        return max_lr * step / warmup_steps\n",
    "    return min_lr + (max_lr - min_lr) * (1 - (step - warmup_steps) / (total_steps - warmup_steps))\n",
    "\n",
    "steps = 47683\n",
    "lrs = [linear_lr_schedule(step, steps) for step in range(steps)]\n",
    "plt.plot(lrs, linestyle='-', color='b')"
   ]
  },
  {
   "cell_type": "code",
   "execution_count": 21,
   "metadata": {},
   "outputs": [],
   "source": [
    "def get_adamw_decay_factors(step_start, step_end, total_steps, weight_decay, warmup_steps=700, max_lr=6e-4, min_lr=6e-5, get_lr = cosine_lr_schedule):\n",
    "    \"\"\"returns the factors by how much the weights are decayed from start step to end step.\"\"\"\n",
    "    per_step_decay_factors = []\n",
    "    for step in range(step_start, step_end):\n",
    "        lr = get_lr(step, total_steps, warmup_steps, max_lr, min_lr)\n",
    "        per_step_decay_factors.append(1 - lr * weight_decay)\n",
    "    return np.cumprod(per_step_decay_factors)\n",
    "\n",
    "def model_composition_plot(model_norm):\n",
    "    # Use the default matplotlib color cycle\n",
    "    colors = plt.rcParams['axes.prop_cycle'].by_key()['color']\n",
    "\n",
    "    # Adjust the figure size for a long bar (width-to-height ratio)\n",
    "    fig, ax = plt.subplots(figsize=(10, 1))  # width=10, height=1 for a long, thin bar\n",
    "\n",
    "    # Plot a single horizontal bar composed of the segments\n",
    "    ax.barh(0, model_norm[0], color=colors[0], edgecolor='black')\n",
    "    for i in range(1, len(model_norm)):\n",
    "        ax.barh(0, model_norm[i], left=np.sum(model_norm[:i]), color=colors[i], edgecolor='black')\n",
    "\n",
    "    # Remove axes\n",
    "    ax.axis('off')"
   ]
  },
  {
   "cell_type": "markdown",
   "metadata": {},
   "source": [
    "### 124M 1x"
   ]
  },
  {
   "cell_type": "code",
   "execution_count": null,
   "metadata": {},
   "outputs": [],
   "source": [
    "max_lr = 6.0E-4\n",
    "min_lr = 6.0E-5\n",
    "warmup_steps = 700\n",
    "weight_decay = 0.1\n",
    "total_steps = 4730\n",
    "\n",
    "# plot the decay after 0%; 10%, 20%, 30%, 40%, 50%, 60%, 70%, 80%, 90% of the steps, all in one plot with one line per percentage\n",
    "for i in range(0, 100, 10):\n",
    "    step_start = int(i / 100 * total_steps)\n",
    "    decay_factor = get_adamw_decay_factors(step_start, total_steps, total_steps, weight_decay, warmup_steps, max_lr, min_lr, get_lr=cosine_lr_schedule)\n",
    "    x = np.arange(step_start, total_steps)\n",
    "    plt.plot(x, decay_factor, linestyle='-')\n",
    "plt.ylim(0, 1)\n",
    "plt.xlim(0, total_steps)\n",
    "# plt.legend([\"0%\", \"10%\", \"20%\", \"30%\", \"40%\", \"50%\", \"60%\", \"70%\", \"80%\", \"90%\"])\n",
    "plt.xlabel(\"Gradient Step\")\n",
    "plt.ylabel(\"Cumulative Weight Decay Factor\")\n",
    "\n",
    "# save the plot\n",
    "plt.savefig(\"figures/decays/124_1x_Chinchilla.pdf\")\n",
    "plt.show()"
   ]
  },
  {
   "cell_type": "code",
   "execution_count": null,
   "metadata": {},
   "outputs": [],
   "source": [
    "model_norm = []\n",
    "for i in range(0, 100, 10):\n",
    "    step_start = int(i / 100 * total_steps)\n",
    "    step_end = int((i+10) / 100 * total_steps) # we look at 10% of the steps\n",
    "    # now sum all the learnig rates from step_start to step_end\n",
    "    lr_sum = 0\n",
    "    for step in range(step_start, step_end):\n",
    "        lr_sum += cosine_lr_schedule(step, total_steps, warmup_steps, max_lr, min_lr)\n",
    "    # approximate the decay by using the middle step of the interval\n",
    "    decay_factor = get_adamw_decay_factors(int((step_start+step_end)/2), total_steps, total_steps, weight_decay, warmup_steps, max_lr, min_lr, get_lr=cosine_lr_schedule)\n",
    "    print(f\"Step {step_start} - Step {step_end},  {lr_sum:.3f}, {decay_factor[-1]:.3f}\")\n",
    "    #print(f\"Decay factor: {decay_factor[-1]}\")\n",
    "    model_norm.append(decay_factor[-1] * lr_sum)\n",
    "model_norm = np.array(model_norm) / np.sum(model_norm)\n",
    "print(model_norm)\n",
    "\n",
    "# make a chart with bars of the right size for each decile of model norm\n",
    "model_composition_plot(model_norm)\n",
    "plt.savefig(\"figures/decays/124_1x_Chinchilla_composition.pdf\")\n"
   ]
  },
  {
   "cell_type": "markdown",
   "metadata": {},
   "source": [
    "### 124M 15x"
   ]
  },
  {
   "cell_type": "code",
   "execution_count": null,
   "metadata": {},
   "outputs": [],
   "source": [
    "max_lr = 6.0E-4\n",
    "min_lr = 6.0E-5\n",
    "warmup_steps = 700\n",
    "weight_decay = 0.1\n",
    "total_steps = 47000 // 10 * 15\n",
    "\n",
    "# plot the decay after 0%; 10%, 20%, 30%, 40%, 50%, 60%, 70%, 80%, 90% of the steps, all in one plot with one line per percentage\n",
    "for i in range(0, 100, 10):\n",
    "    step_start = int(i / 100 * total_steps)\n",
    "    decay_factor = get_adamw_decay_factors(step_start, total_steps, total_steps, weight_decay, warmup_steps, max_lr, min_lr, get_lr=cosine_lr_schedule)\n",
    "    x = np.arange(step_start, total_steps)\n",
    "    plt.plot(x, decay_factor, linestyle='-')\n",
    "plt.ylim(0, 1)\n",
    "plt.xlim(0, total_steps)\n",
    "# plt.title(\"124M 15x Chinchilla Cumulative Weight Decay\")\n",
    " # plt.legend([\"0%\", \"10%\", \"20%\", \"30%\", \"40%\", \"50%\", \"60%\", \"70%\", \"80%\", \"90%\"])\n",
    "plt.xlabel(\"Gradient Step\")\n",
    "plt.ylabel(\"Cumulative Weight Decay\")\n",
    "\n",
    "# save figure\n",
    "plt.savefig(\"figures/124M_15x_wd.pdf\")\n",
    "plt.show()"
   ]
  },
  {
   "cell_type": "code",
   "execution_count": null,
   "metadata": {},
   "outputs": [],
   "source": [
    "# make a figure that tell us how the final model weights are composed of the gradient updates seen at different steps\n",
    "max_lr = 6.0E-4\n",
    "min_lr = 6.0E-5\n",
    "warmup_steps = 700\n",
    "weight_decay = 0.1\n",
    "total_steps = 47000 // 10 * 15\n",
    "model_norm = []\n",
    "for i in range(0, 100, 10):\n",
    "    step_start = int(i / 100 * total_steps)\n",
    "    step_end = int((i+10) / 100 * total_steps) # we look at 10% of the steps\n",
    "    # now sum all the learnig rates from step_start to step_end\n",
    "    lr_sum = 0\n",
    "    for step in range(step_start, step_end):\n",
    "        lr_sum += cosine_lr_schedule(step, total_steps, warmup_steps, max_lr, min_lr)\n",
    "    # approximate the decay by using the middle step of the interval\n",
    "    decay_factor = get_adamw_decay_factors(int((step_start+step_end)/2), total_steps, total_steps, weight_decay, warmup_steps, max_lr, min_lr, get_lr=cosine_lr_schedule)\n",
    "    print(f\"Step {step_start} - Step {step_end},  {lr_sum:.3f}, {decay_factor[-1]:.3f}\")\n",
    "    #print(f\"Decay factor: {decay_factor[-1]}\")\n",
    "    model_norm.append(decay_factor[-1] * lr_sum)\n",
    "model_norm = np.array(model_norm) / np.sum(model_norm)\n",
    "print(model_norm)\n",
    "\n",
    "# make a chart with bars of the right size for each decile of model norm\n",
    "model_composition_plot(model_norm)\n",
    "\n",
    "plt.savefig(\"figures/124M_15x_model_composition.pdf\", bbox_inches='tight')"
   ]
  },
  {
   "cell_type": "markdown",
   "metadata": {},
   "source": [
    "### 1.6B 1x"
   ]
  },
  {
   "cell_type": "code",
   "execution_count": null,
   "metadata": {},
   "outputs": [],
   "source": [
    "max_lr = 2.0E-4\n",
    "min_lr = 2.0E-5\n",
    "warmup_steps = 700\n",
    "weight_decay = 0.1\n",
    "total_steps = 30803\n",
    "\n",
    "# plot the decay after 0%; 10%, 20%, 30%, 40%, 50%, 60%, 70%, 80%, 90% of the steps, all in one plot with one line per percentage\n",
    "for i in range(0, 100, 10):\n",
    "    step_start = int(i / 100 * total_steps)\n",
    "    decay_factor = get_adamw_decay_factors(step_start, total_steps, total_steps, weight_decay, warmup_steps, max_lr, min_lr, get_lr=cosine_lr_schedule)\n",
    "    x = np.arange(step_start, total_steps)\n",
    "    plt.plot(x, decay_factor, linestyle='-')\n",
    "plt.ylim(0, 1)\n",
    "plt.xlim(0, total_steps)\n",
    "# plt.title(\"1.6B 1x Chinchilla Cumulative Weight Decay\")\n",
    "#plt.legend([\"0%\", \"10%\", \"20%\", \"30%\", \"40%\", \"50%\", \"60%\", \"70%\", \"80%\", \"90%\"])\n",
    "plt.xlabel(\"Gradient Step\")\n",
    "plt.ylabel(\"Cumulative Weight Decay Factor\")\n",
    "# save figure\n",
    "plt.savefig(\"figures/decays/1.6B_1x_Chinchilla.pdf\")\n",
    "plt.show()\n",
    "\n",
    "model_norm = []\n",
    "for i in range(0, 100, 10):\n",
    "    step_start = int(i / 100 * total_steps)\n",
    "    step_end = int((i+10) / 100 * total_steps) # we look at 10% of the steps\n",
    "    # now sum all the learnig rates from step_start to step_end\n",
    "    lr_sum = 0\n",
    "    for step in range(step_start, step_end):\n",
    "        lr_sum += cosine_lr_schedule(step, total_steps, warmup_steps, max_lr, min_lr)\n",
    "    # approximate the decay by using the middle step of the interval\n",
    "    decay_factor = get_adamw_decay_factors(int((step_start+step_end)/2), total_steps, total_steps, weight_decay, warmup_steps, max_lr, min_lr, get_lr=cosine_lr_schedule)\n",
    "    print(f\"Step {step_start} - Step {step_end},  {lr_sum:.3f}, {decay_factor[-1]:.3f}\")\n",
    "    #print(f\"Decay factor: {decay_factor[-1]}\")\n",
    "    model_norm.append(decay_factor[-1] * lr_sum)\n",
    "model_norm = np.array(model_norm) / np.sum(model_norm)\n",
    "print(model_norm)\n",
    "\n",
    "# make a chart with bars of the right size for each decile of model norm\n",
    "model_composition_plot(model_norm)\n",
    "plt.savefig(\"figures/decays/1.6B_1x_Chinchilla_composition.pdf\")"
   ]
  },
  {
   "cell_type": "markdown",
   "metadata": {},
   "source": [
    "## OLMo 7B"
   ]
  },
  {
   "cell_type": "code",
   "execution_count": null,
   "metadata": {},
   "outputs": [],
   "source": [
    "max_lr = 3.0E-4\n",
    "min_lr = 3.0E-5\n",
    "warmup_steps = 5000\n",
    "weight_decay = 0.1\n",
    "total_steps = 615000\n",
    "\n",
    "# plot the decay after 0%; 10%, 20%, 30%, 40%, 50%, 60%, 70%, 80%, 90% of the steps, all in one plot with one line per percentage\n",
    "for i in range(0, 100, 10):\n",
    "    step_start = int(i / 100 * total_steps)\n",
    "    decay_factor = get_adamw_decay_factors(step_start, total_steps, total_steps, weight_decay, warmup_steps, max_lr, min_lr, get_lr=linear_lr_schedule)\n",
    "    x = np.arange(step_start, total_steps)\n",
    "    plt.plot(x, decay_factor, linestyle='-')\n",
    "plt.ylim(0, 1)\n",
    "plt.xlim(0, total_steps)\n",
    "# plt.title(\"OLMo 7B Cumulative Weight Decay\")\n",
    "# plt.legend([\"0%\", \"10%\", \"20%\", \"30%\", \"40%\", \"50%\", \"60%\", \"70%\", \"80%\", \"90%\"])\n",
    "plt.xlabel(\"Gradient Step\")\n",
    "plt.ylabel(\"Cumulative Weight Decay\")\n",
    "\n",
    "# x axis steps\n",
    "x = np.arange(0, total_steps, 200000)\n",
    "plt.xticks(x, x)\n",
    "\n",
    "# save figure\n",
    "plt.savefig(\"figures/OLMo_7B_wd.pdf\")\n",
    "plt.show()"
   ]
  },
  {
   "cell_type": "markdown",
   "metadata": {},
   "source": [
    "## Llama 405B"
   ]
  },
  {
   "cell_type": "markdown",
   "metadata": {},
   "source": [
    "#### \"We pre-train Llama 3 405B using AdamW with a peak learning rate of 8 × 10−5 , a linear warm up of 8,000 steps, and a cosine learning rate schedule decaying to 8 × 10−7 over 1,200,000 steps\""
   ]
  },
  {
   "cell_type": "code",
   "execution_count": null,
   "metadata": {},
   "outputs": [],
   "source": [
    "max_lr = 8e-5\n",
    "min_lr = 8e-7\n",
    "warmup_steps = 8000\n",
    "weight_decay = 0.1\n",
    "total_steps = 1200000\n",
    "\n",
    "# plot the decay after 0%; 10%, 20%, 30%, 40%, 50%, 60%, 70%, 80%, 90% of the steps, all in one plot with one line per percentage\n",
    "for i in range(0, 100, 10):\n",
    "    step_start = int(i / 100 * total_steps)\n",
    "    decay_factor = get_adamw_decay_factors(step_start, total_steps, total_steps, weight_decay, warmup_steps, max_lr, min_lr, get_lr=cosine_lr_schedule)\n",
    "    x = np.arange(step_start, total_steps)\n",
    "    plt.plot(x, decay_factor, linestyle='-')\n",
    "plt.ylim(0, 1)\n",
    "plt.xlim(0, total_steps)\n",
    "# plt.title(\"Llama 3 405B Cumulative Weight Decay (assumes wd=0.1)\")\n",
    "# plt.legend([\"0%\", \"10%\", \"20%\", \"30%\", \"40%\", \"50%\", \"60%\", \"70%\", \"80%\", \"90%\"])\n",
    "plt.xlabel(\"Gradient Step\")\n",
    "\n",
    "plt.ylabel(\"Cumulative Weight Decay\")\n",
    "\n",
    "#x ticks\n",
    "x = np.arange(0, total_steps, 200000)\n",
    "plt.xticks(x, x)\n",
    "\n",
    "# save figure\n",
    "plt.savefig(\"figures/LLama3_405B_wd.pdf\")\n",
    "plt.show()"
   ]
  }
 ],
 "metadata": {
  "kernelspec": {
   "display_name": "tmcd",
   "language": "python",
   "name": "python3"
  },
  "language_info": {
   "codemirror_mode": {
    "name": "ipython",
    "version": 3
   },
   "file_extension": ".py",
   "mimetype": "text/x-python",
   "name": "python",
   "nbconvert_exporter": "python",
   "pygments_lexer": "ipython3",
   "version": "3.12.2"
  }
 },
 "nbformat": 4,
 "nbformat_minor": 2
}
